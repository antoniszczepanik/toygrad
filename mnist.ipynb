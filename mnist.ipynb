{
 "cells": [
  {
   "cell_type": "code",
   "execution_count": null,
   "id": "cfe557ff-b299-4e3d-a1c2-75b549bfdde8",
   "metadata": {},
   "outputs": [],
   "source": [
    "import numpy as np\n",
    "import pandas as pd\n",
    "import matplotlib.pyplot as plt\n",
    "\n",
    "from toygrad import MLP, Layer, Sigmoid, SoftMax, ReLU, TanH, Linear, SquaredError, CategoricalCrossEntropy, Accuracy, get_metric_key\n",
    "from plot import plot_network, plot_metric\n",
    "\n",
    "np.random.seed(2137)\n",
    "plt.rcParams[\"figure.figsize\"] = (20,20)\n",
    "\n",
    "TRAINING_DATASET = \"data/mnist/train.csv\"\n",
    "TESTING_DATASET = \"data/mnist/test.csv\"\n",
    "\n",
    "def one_hot(y):\n",
    "    y = y.astype(int)\n",
    "    encoded = np.zeros((y.size, y.max()+1))\n",
    "    encoded[np.arange(y.size), y.reshape(1, -1)] = 1\n",
    "    return encoded\n",
    "\n",
    "def read_mnist(path):\n",
    "    \"\"\"Read and shuffle the dataset\"\"\"\n",
    "    data = np.genfromtxt(path, delimiter=',')[1:]\n",
    "    np.random.shuffle(data)\n",
    "    X = data[:, 1:]\n",
    "    Y = one_hot(data[:, 0].reshape(-1, 1))\n",
    "    return X, Y\n",
    "\n",
    "def plot_images(X):\n",
    "    # Disregard elements which would not fit in square\n",
    "    size = int(len(X)**(1/2))\n",
    "    x = X[:size**2]\n",
    "    plt.imshow(np.concatenate(x.reshape(size, size*28, 28), axis=1))\n",
    "    plt.show()\n",
    "    \n",
    "X, Y = read_mnist(TRAINING_DATASET)\n",
    "X = (X-np.mean(X))/np.std(X)\n",
    "\n",
    "train_size = int(len(X)*0.8)\n",
    "\n",
    "X_train, Y_train = X[:train_size], Y[:train_size]\n",
    "X_test, Y_test = X[train_size:], Y[train_size:]"
   ]
  },
  {
   "cell_type": "code",
   "execution_count": null,
   "id": "26ff2572-74fd-4f2e-8606-34785ac851f6",
   "metadata": {},
   "outputs": [],
   "source": [
    "layers = [\n",
    "    Layer(in_size=28*28, out_size=64, activ_function=TanH),\n",
    "    Layer(in_size=64, out_size=10, activ_function=SoftMax),\n",
    "]\n",
    "m = MLP(\n",
    "    layers=layers,\n",
    "    loss=CategoricalCrossEntropy,\n",
    "    metrics=[Accuracy],\n",
    "    bias=True,\n",
    "    batch_size=4,\n",
    "    epochs=10,\n",
    "    momentum=0,\n",
    "    learning_rate=0.1,\n",
    "    verbosity=2,\n",
    ")"
   ]
  },
  {
   "cell_type": "code",
   "execution_count": null,
   "id": "e82f7059-1f0f-4637-a56b-7ec744cf5f94",
   "metadata": {},
   "outputs": [],
   "source": [
    "%%time\n",
    "stats = m.train(X_train, Y_train, X_test, Y_test)\n",
    "plot_metric(m.loss, stats, title=\"Train/Test losses per epoch\")\n",
    "plot_metric(Accuracy(), stats, title=\"Train/Test accuracy per epoch\")"
   ]
  },
  {
   "cell_type": "code",
   "execution_count": null,
   "id": "e6eea8f5-43e0-41d4-804c-91be5640536d",
   "metadata": {},
   "outputs": [],
   "source": [
    "activations = [Sigmoid, ReLU]\n",
    "layer_sizes = [32, 64, 128, 256]\n",
    "layer_numbers = [1, 2]\n",
    "learning_rates = [0.5, 0.4, 0.3, 0.2]"
   ]
  },
  {
   "cell_type": "code",
   "execution_count": null,
   "id": "1e0744fe-e868-4a76-b4f7-c0ae787d8c3a",
   "metadata": {},
   "outputs": [
    {
     "name": "stdout",
     "output_type": "stream",
     "text": [
      "===================================================================================\n",
      "Layer number: 1, Layer size: 32, Activation: Sigmoid, Learning rate: 0.5\n",
      "===================================================================================\n"
     ]
    }
   ],
   "source": [
    "%%time\n",
    "def save_results_df(result):  \n",
    "    results_df = pd.DataFrame(result)\n",
    "    results_df = results_df.sort_values('test_accuracy', ascending=False)\n",
    "    results_df.to_csv(\"hyperparamter_results.csv\")\n",
    "    return results_df\n",
    "    \n",
    "epochs = 20\n",
    "result = {\n",
    "    \"activation\": [],\n",
    "    \"layer_size\": [],\n",
    "    \"hidden_layer_number\": [],\n",
    "    \"learning_rate\": [],\n",
    "    \"epochs\": [],\n",
    "    \"test_accuracy\": [],\n",
    "    \"train_loss\": [],\n",
    "    \"train_loss_std\": [],\n",
    "}\n",
    "for activation in activations:\n",
    "    for size in layer_sizes:\n",
    "        for layer_num in layer_numbers:\n",
    "            for lr in learning_rates:\n",
    "                print(\"===================================================================================\")\n",
    "                header = f\"Layer number: {layer_num}, Layer size: {size}, Activation: {str(activation())}, Learning rate: {lr}\"\n",
    "                result[\"activation\"].append(activation())\n",
    "                result[\"layer_size\"].append(size)\n",
    "                result[\"learning_rate\"].append(lr)\n",
    "                result[\"hidden_layer_number\"].append(layer_num)\n",
    "                result[\"epochs\"].append(epochs)\n",
    "                print(header)\n",
    "                print(\"===================================================================================\")\n",
    "                layers = [\n",
    "                    Layer(in_size=28*28, out_size=size, activ_function=activation),\n",
    "                    *[Layer(in_size=size, out_size=size, activ_function=activation) for _ in range(layer_num-1)],\n",
    "                    Layer(in_size=size, out_size=10, activ_function=SoftMax),\n",
    "                ]\n",
    "                m = MLP(\n",
    "                    layers=layers,\n",
    "                    loss=CategoricalCrossEntropy,\n",
    "                    metrics=[Accuracy],\n",
    "                    bias=True,\n",
    "                    batch_size=4,\n",
    "                    epochs=20,\n",
    "                    momentum=0,\n",
    "                    learning_rate=lr,\n",
    "                    verbosity=1,\n",
    "                )\n",
    "                stats = m.train(X_train, Y_train, X_test, Y_test)\n",
    "                #plot_metric(m.loss, stats, title=f\"Train/Test losses per epoch - {header}\")\n",
    "                #plot_metric(Accuracy(), stats, title=f\"Train/Test accuracy per epoch - {header}\")\n",
    "                \n",
    "                result[\"test_accuracy\"].append(stats[get_metric_key(Accuracy(), \"test\")][-1])\n",
    "                result[\"train_loss\"].append(stats[get_metric_key(m.loss, \"train\")][-1])\n",
    "                result[\"train_loss_std\"].append(stats[get_metric_key(m.loss, \"train_std\")][-1])\n",
    "                result_df = save_results_df(result)\n",
    "                print(result_df.head())\n",
    "result_df"
   ]
  },
  {
   "cell_type": "code",
   "execution_count": null,
   "id": "9b33df00-6928-4b77-a8a0-2cc140055340",
   "metadata": {},
   "outputs": [],
   "source": []
  }
 ],
 "metadata": {
  "kernelspec": {
   "display_name": "Python 3",
   "language": "python",
   "name": "python3"
  },
  "language_info": {
   "codemirror_mode": {
    "name": "ipython",
    "version": 3
   },
   "file_extension": ".py",
   "mimetype": "text/x-python",
   "name": "python",
   "nbconvert_exporter": "python",
   "pygments_lexer": "ipython3",
   "version": "3.8.5"
  }
 },
 "nbformat": 4,
 "nbformat_minor": 5
}
