{
 "cells": [
  {
   "cell_type": "code",
   "execution_count": 4,
   "id": "7e780edd-a3ab-4e40-a0a6-3ba41a015323",
   "metadata": {},
   "outputs": [],
   "source": [
    "import numpy as np\n",
    "import matplotlib.pyplot as plt\n",
    "\n",
    "from toygrad import MLP, sigmoid\n",
    "\n",
    "np.random.seed(2137)\n",
    "m = MLP(\n",
    "    sizes=[2, 3, 3],\n",
    "    loss=\"none\",\n",
    "    activation=sigmoid,\n",
    "    bias=True,\n",
    "    batch_size=1,\n",
    "    momentum=0.001,\n",
    "    learning_rate=0.001,\n",
    ")\n",
    "CLF = \"data/classification\"\n",
    "REG = \"data/regression\"\n",
    "\n",
    "test_data = np.genfromtxt(f'{CLF}/data.simple.test.100.csv', delimiter=',')[1:]\n",
    "\n",
    "def one_hot(y):\n",
    "    y = y.astype(int)\n",
    "    encoded = np.zeros((y.size, y.max()+1))\n",
    "    encoded[np.arange(y.size),y] = 1\n",
    "    return encoded\n",
    "    "
   ]
  },
  {
   "cell_type": "code",
   "execution_count": 5,
   "id": "23f5887d-ad56-48ad-8eb2-a6bca8b94af4",
   "metadata": {},
   "outputs": [],
   "source": [
    "X = test_data[:, :-1]\n",
    "Y = one_hot(test_data[:, -1])"
   ]
  },
  {
   "cell_type": "code",
   "execution_count": 6,
   "id": "75300bd0-ee77-48ed-b76e-6b30ce030bc6",
   "metadata": {},
   "outputs": [
    {
     "name": "stdout",
     "output_type": "stream",
     "text": [
      "1.147155678145375\n"
     ]
    }
   ],
   "source": [
    "loss = 0\n",
    "for x, y in zip(X, Y):\n",
    "    result = m.forward_pass(x)\n",
    "    loss += np.sum((result ** 2) - (y ** 2))\n",
    "loss = loss/len(X)\n",
    "print(loss)"
   ]
  },
  {
   "cell_type": "code",
   "execution_count": null,
   "id": "66b7d4be-8397-44d9-a85d-1390edc61afb",
   "metadata": {},
   "outputs": [],
   "source": []
  }
 ],
 "metadata": {
  "kernelspec": {
   "display_name": "Python 3",
   "language": "python",
   "name": "python3"
  },
  "language_info": {
   "codemirror_mode": {
    "name": "ipython",
    "version": 3
   },
   "file_extension": ".py",
   "mimetype": "text/x-python",
   "name": "python",
   "nbconvert_exporter": "python",
   "pygments_lexer": "ipython3",
   "version": "3.8.5"
  }
 },
 "nbformat": 4,
 "nbformat_minor": 5
}
