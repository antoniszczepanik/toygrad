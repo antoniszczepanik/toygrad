{
 "cells": [
  {
   "cell_type": "code",
   "execution_count": 1,
   "id": "7e780edd-a3ab-4e40-a0a6-3ba41a015323",
   "metadata": {},
   "outputs": [],
   "source": [
    "import numpy as np\n",
    "import matplotlib.pyplot as plt\n",
    "\n",
    "from toygrad import MLP, Layer, Sigmoid, SquaredError\n",
    "\n",
    "np.random.seed(2137)\n",
    "\n",
    "CLF = \"data/classification\"\n",
    "REG = \"data/regression\"\n",
    "\n",
    "def one_hot(y):\n",
    "    y = y.astype(int)\n",
    "    encoded = np.zeros((y.size, y.max()+1))\n",
    "    encoded[np.arange(y.size),y] = 1\n",
    "    return encoded\n",
    "\n",
    "def read_data(path):\n",
    "    data = np.genfromtxt(path, delimiter=',')[1:]\n",
    "    X = data[:, :-1]\n",
    "    Y = one_hot(data[:, -1])\n",
    "    return X, Y"
   ]
  },
  {
   "cell_type": "code",
   "execution_count": 2,
   "id": "9e2ad2d3-1edf-4d66-b21c-830275b1439e",
   "metadata": {},
   "outputs": [],
   "source": [
    "layers = [\n",
    "    Layer(in_size=2, out_size=5, activ_function=Sigmoid),\n",
    "    Layer(in_size=5, out_size=5, activ_function=Sigmoid),\n",
    "    Layer(in_size=5, out_size=3, activ_function=Sigmoid),\n",
    "]\n",
    "m = MLP(\n",
    "    layers=layers,\n",
    "    loss=SquaredError,\n",
    "    bias=True,\n",
    "    batch_size=16,\n",
    "    epochs=5,\n",
    "    momentum=0.001,\n",
    "    learning_rate=0.1,\n",
    ")"
   ]
  },
  {
   "cell_type": "code",
   "execution_count": 3,
   "id": "23f5887d-ad56-48ad-8eb2-a6bca8b94af4",
   "metadata": {},
   "outputs": [],
   "source": [
    "X, Y = read_data(f\"{CLF}/data.simple.test.100.csv\")"
   ]
  },
  {
   "cell_type": "code",
   "execution_count": 4,
   "id": "75300bd0-ee77-48ed-b76e-6b30ce030bc6",
   "metadata": {},
   "outputs": [
    {
     "name": "stdout",
     "output_type": "stream",
     "text": [
      "=========== Epoch 0 ============\n",
      "Batch 1/6    16/100 - loss: 0.530\n",
      "Batch 2/6    32/100 - loss: 0.522\n",
      "Batch 3/6    48/100 - loss: 0.514\n",
      "Batch 4/6    64/100 - loss: 0.509\n",
      "Batch 5/6    80/100 - loss: 0.498\n",
      "Batch 6/6   100/100 - loss: 0.487\n",
      "=========== Epoch 1 ============\n",
      "Batch 1/6    16/100 - loss: 0.475\n",
      "Batch 2/6    32/100 - loss: 0.462\n",
      "Batch 3/6    48/100 - loss: 0.449\n",
      "Batch 4/6    64/100 - loss: 0.442\n",
      "Batch 5/6    80/100 - loss: 0.421\n",
      "Batch 6/6   100/100 - loss: 0.402\n",
      "=========== Epoch 2 ============\n",
      "Batch 1/6    16/100 - loss: 0.382\n",
      "Batch 2/6    32/100 - loss: 0.365\n",
      "Batch 3/6    48/100 - loss: 0.346\n",
      "Batch 4/6    64/100 - loss: 0.342\n",
      "Batch 5/6    80/100 - loss: 0.317\n",
      "Batch 6/6   100/100 - loss: 0.297\n",
      "=========== Epoch 3 ============\n",
      "Batch 1/6    16/100 - loss: 0.279\n",
      "Batch 2/6    32/100 - loss: 0.270\n",
      "Batch 3/6    48/100 - loss: 0.256\n",
      "Batch 4/6    64/100 - loss: 0.268\n",
      "Batch 5/6    80/100 - loss: 0.246\n",
      "Batch 6/6   100/100 - loss: 0.233\n",
      "=========== Epoch 4 ============\n",
      "Batch 1/6    16/100 - loss: 0.220\n",
      "Batch 2/6    32/100 - loss: 0.220\n",
      "Batch 3/6    48/100 - loss: 0.211\n",
      "Batch 4/6    64/100 - loss: 0.234\n",
      "Batch 5/6    80/100 - loss: 0.212\n",
      "Batch 6/6   100/100 - loss: 0.202\n"
     ]
    }
   ],
   "source": [
    "m.train(X, Y)"
   ]
  }
 ],
 "metadata": {
  "kernelspec": {
   "display_name": "Python 3",
   "language": "python",
   "name": "python3"
  },
  "language_info": {
   "codemirror_mode": {
    "name": "ipython",
    "version": 3
   },
   "file_extension": ".py",
   "mimetype": "text/x-python",
   "name": "python",
   "nbconvert_exporter": "python",
   "pygments_lexer": "ipython3",
   "version": "3.8.5"
  }
 },
 "nbformat": 4,
 "nbformat_minor": 5
}
